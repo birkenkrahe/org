{
 "cells": [
  {
   "cell_type": "code",
   "execution_count": 6,
   "id": "1144c3d2-effe-4943-8138-4e5e07bb6df1",
   "metadata": {
    "tags": []
   },
   "outputs": [
    {
     "name": "stdout",
     "output_type": "stream",
     "text": [
      "Hello,0\n",
      "Hello,1\n",
      "Hello,2\n",
      "Hello,3\n",
      "Hello,4\n",
      "Hello,5\n",
      "Hello,6\n",
      "Hello,7\n",
      "Hello,8\n",
      "Hello,9\n"
     ]
    }
   ],
   "source": [
    "for i in range(10):\n",
    "    print(f'Hello,{i}')"
   ]
  },
  {
   "cell_type": "code",
   "execution_count": 7,
   "id": "6c58fce3-95b5-407e-8083-a0f5cbca2106",
   "metadata": {
    "tags": []
   },
   "outputs": [
    {
     "name": "stdout",
     "output_type": "stream",
     "text": [
      " Volume in drive C is OS\n",
      " Volume Serial Number is 0654-135C\n",
      "\n",
      " Directory of C:\\Users\\birkenkrahe\\Documents\\GitHub\\org\n",
      "\n",
      "05/02/2023  11:25 AM    <DIR>          .\n",
      "05/02/2023  11:25 AM    <DIR>          ..\n",
      "01/20/2022  09:05 AM               218 .gitignore\n",
      "05/02/2023  11:15 AM    <DIR>          .ipynb_checkpoints\n",
      "11/24/2022  04:26 PM                39 .Rhistory\n",
      "02/27/2023  05:08 PM             2,798 ai.org\n",
      "07/15/2022  04:15 PM             5,814 aisha.org\n",
      "01/14/2023  02:46 PM            54,609 diary.org\n",
      "02/27/2023  05:07 PM             3,472 ds1.org\n",
      "03/18/2023  06:49 PM    <DIR>          emacs\n",
      "02/02/2023  04:21 PM           129,883 FAQ.org\n",
      "12/28/2021  08:53 AM             2,812 fya_Oct_2021.md\n",
      "02/21/2022  10:51 AM               695 git.sh\n",
      "12/31/2021  02:22 PM    <DIR>          grading\n",
      "02/25/2023  05:20 PM    <DIR>          img\n",
      "05/02/2023  10:15 AM            22,255 internship.md\n",
      "11/23/2022  11:48 AM             1,613 kim.org\n",
      "03/26/2022  10:50 AM               402 mermaid.md\n",
      "03/31/2023  09:31 AM             4,358 mod.org\n",
      "03/16/2023  01:18 PM            16,299 nb.org\n",
      "12/16/2022  12:19 PM    <DIR>          pdf\n",
      "01/04/2023  09:35 AM             2,936 policy.org\n",
      "10/07/2021  04:32 PM               933 quora.org\n",
      "01/04/2022  05:24 PM             1,205 README.org\n",
      "04/15/2023  10:45 AM    <DIR>          research\n",
      "10/30/2022  09:26 PM             8,564 spring23plan.org\n",
      "12/31/2021  02:49 PM    <DIR>          systems\n",
      "05/02/2023  11:25 AM             1,139 Untitled.ipynb\n",
      "              19 File(s)        260,044 bytes\n",
      "               9 Dir(s)  226,394,427,392 bytes free\n"
     ]
    }
   ],
   "source": [
    "%ls"
   ]
  },
  {
   "cell_type": "code",
   "execution_count": null,
   "id": "3abb9859-95a8-4fed-911f-2b178e3019e2",
   "metadata": {},
   "outputs": [],
   "source": []
  }
 ],
 "metadata": {
  "kernelspec": {
   "display_name": "Python 3 (ipykernel)",
   "language": "python",
   "name": "python3"
  },
  "language_info": {
   "codemirror_mode": {
    "name": "ipython",
    "version": 3
   },
   "file_extension": ".py",
   "mimetype": "text/x-python",
   "name": "python",
   "nbconvert_exporter": "python",
   "pygments_lexer": "ipython3",
   "version": "3.11.1"
  }
 },
 "nbformat": 4,
 "nbformat_minor": 5
}
